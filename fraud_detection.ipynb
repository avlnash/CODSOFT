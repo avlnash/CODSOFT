{
  "nbformat": 4,
  "nbformat_minor": 0,
  "metadata": {
    "colab": {
      "provenance": []
    },
    "kernelspec": {
      "name": "python3",
      "display_name": "Python 3"
    },
    "language_info": {
      "name": "python"
    }
  },
  "cells": [
    {
      "cell_type": "markdown",
      "source": [
        "NAME: AVINASH\n",
        "\n",
        " CREDIT CARD FRAUD DETECTION:\n",
        "\n",
        "\n",
        " Build a model to detect fraudulent credit card transactions. Use a dataset containing information about credit card transactions, and experiment with algorithms like Logistic Regression, Decision Trees,\n",
        " or Random Forests to classify transactions as fraudulent or legitimate.\n",
        "\n",
        "\n",
        " DATA SET LINK: https://www.kaggle.com/datasets/kartik2112/fraud-detection"
      ],
      "metadata": {
        "id": "Vd6GOTOyreQE"
      }
    },
    {
      "cell_type": "code",
      "execution_count": 46,
      "metadata": {
        "id": "IUvF3G_cwfFV"
      },
      "outputs": [],
      "source": [
        "import pandas as pd\n",
        "import numpy as np\n",
        "from sklearn.model_selection import train_test_split\n",
        "from sklearn.preprocessing import StandardScaler\n",
        "from sklearn.linear_model import LogisticRegression\n",
        "from sklearn.tree import DecisionTreeClassifier\n",
        "from sklearn.ensemble import RandomForestClassifier\n",
        "from sklearn.metrics import classification_report, accuracy_score, confusion_matrix\n",
        "from imblearn.over_sampling import SMOTE\n",
        "import joblib\n",
        "import seaborn as sns\n",
        "import matplotlib.pyplot as plt"
      ]
    },
    {
      "cell_type": "code",
      "source": [
        "fraud_train = pd.read_csv('fraudTrain.csv')\n",
        "fraud_test = pd.read_csv('fraudTest.csv')"
      ],
      "metadata": {
        "id": "2giqoiywTSNK"
      },
      "execution_count": 47,
      "outputs": []
    },
    {
      "cell_type": "code",
      "source": [
        "print(fraud_train.columns)"
      ],
      "metadata": {
        "colab": {
          "base_uri": "https://localhost:8080/"
        },
        "id": "9h1lTZUYTeta",
        "outputId": "c5a5e6d5-0a60-4bb3-c0f2-5267410891c4"
      },
      "execution_count": 49,
      "outputs": [
        {
          "output_type": "stream",
          "name": "stdout",
          "text": [
            "Index(['Unnamed: 0', 'trans_date_trans_time', 'cc_num', 'merchant', 'category',\n",
            "       'amt', 'first', 'last', 'gender', 'street', 'city', 'state', 'zip',\n",
            "       'lat', 'long', 'city_pop', 'job', 'dob', 'trans_num', 'unix_time',\n",
            "       'merch_lat', 'merch_long', 'is_fraud'],\n",
            "      dtype='object')\n"
          ]
        }
      ]
    },
    {
      "cell_type": "code",
      "source": [
        "fraud_train['trans_date_trans_time'] = pd.to_datetime(fraud_train['trans_date_trans_time'])\n",
        "fraud_test['trans_date_trans_time'] = pd.to_datetime(fraud_test['trans_date_trans_time'])"
      ],
      "metadata": {
        "id": "4ERtp1hqT7Mu"
      },
      "execution_count": 50,
      "outputs": []
    },
    {
      "cell_type": "code",
      "source": [
        "numeric_cols_train = fraud_train.select_dtypes(include=['float64', 'int64']).columns\n",
        "numeric_cols_test = fraud_test.select_dtypes(include=['float64', 'int64']).columns"
      ],
      "metadata": {
        "id": "7MnLa4KiT9U2"
      },
      "execution_count": 51,
      "outputs": []
    },
    {
      "cell_type": "code",
      "source": [
        "fraud_train[numeric_cols_train] = fraud_train[numeric_cols_train].fillna(fraud_train[numeric_cols_train].median())\n",
        "fraud_test[numeric_cols_test] = fraud_test[numeric_cols_test].fillna(fraud_test[numeric_cols_test].median())"
      ],
      "metadata": {
        "id": "QAoG_93KT9XD"
      },
      "execution_count": 52,
      "outputs": []
    },
    {
      "cell_type": "code",
      "source": [
        "fraud_train['transaction_year'] = fraud_train['trans_date_trans_time'].dt.year\n",
        "fraud_train['transaction_month'] = fraud_train['trans_date_trans_time'].dt.month\n",
        "fraud_train['transaction_day'] = fraud_train['trans_date_trans_time'].dt.day\n",
        "fraud_train['transaction_hour'] = fraud_train['trans_date_trans_time'].dt.hour\n",
        "\n",
        "fraud_test['transaction_year'] = fraud_test['trans_date_trans_time'].dt.year\n",
        "fraud_test['transaction_month'] = fraud_test['trans_date_trans_time'].dt.month\n",
        "fraud_test['transaction_day'] = fraud_test['trans_date_trans_time'].dt.day\n",
        "fraud_test['transaction_hour'] = fraud_test['trans_date_trans_time'].dt.hour"
      ],
      "metadata": {
        "id": "xZMZNFwsT9Za"
      },
      "execution_count": 53,
      "outputs": []
    },
    {
      "cell_type": "code",
      "source": [
        "fraud_train.drop('trans_date_trans_time', axis=1, inplace=True)\n",
        "fraud_test.drop('trans_date_trans_time', axis=1, inplace=True)"
      ],
      "metadata": {
        "id": "jwPV4A3FT9bo"
      },
      "execution_count": 54,
      "outputs": []
    },
    {
      "cell_type": "code",
      "source": [
        "print(fraud_train.columns)\n"
      ],
      "metadata": {
        "colab": {
          "base_uri": "https://localhost:8080/"
        },
        "id": "8wHKtO2NT9eO",
        "outputId": "f0fb291d-59ca-4f84-9266-f47f108d9392"
      },
      "execution_count": 57,
      "outputs": [
        {
          "output_type": "stream",
          "name": "stdout",
          "text": [
            "Index(['Unnamed: 0', 'cc_num', 'merchant', 'category', 'amt', 'first', 'last',\n",
            "       'gender', 'street', 'city', 'state', 'zip', 'lat', 'long', 'city_pop',\n",
            "       'job', 'dob', 'trans_num', 'unix_time', 'merch_lat', 'merch_long',\n",
            "       'is_fraud', 'transaction_year', 'transaction_month', 'transaction_day',\n",
            "       'transaction_hour'],\n",
            "      dtype='object')\n"
          ]
        }
      ]
    },
    {
      "cell_type": "code",
      "source": [
        "features = ['amt', 'city_pop', 'merchant', 'transaction_year', 'transaction_month', 'transaction_day', 'transaction_hour']\n",
        "X_train = fraud_train[features]\n",
        "y_train = fraud_train['is_fraud']\n",
        "\n",
        "X_test = fraud_test[features]\n",
        "y_test = fraud_test['is_fraud']"
      ],
      "metadata": {
        "id": "QmOVVqTLT9g2"
      },
      "execution_count": 59,
      "outputs": []
    },
    {
      "cell_type": "code",
      "source": [
        "X_train = pd.get_dummies(X_train, drop_first=True)\n",
        "X_test = pd.get_dummies(X_test, drop_first=True)"
      ],
      "metadata": {
        "id": "ghT0HgfeT9ka"
      },
      "execution_count": 61,
      "outputs": []
    },
    {
      "cell_type": "code",
      "source": [
        "X_train, X_test = X_train.align(X_test, join='left', axis=1, fill_value=0)"
      ],
      "metadata": {
        "id": "K5lb2-WiT9s9"
      },
      "execution_count": 62,
      "outputs": []
    },
    {
      "cell_type": "code",
      "source": [
        "scaler = StandardScaler()\n",
        "X_train = scaler.fit_transform(X_train)\n",
        "X_test = scaler.transform(X_test)"
      ],
      "metadata": {
        "id": "_AcM1hG9T9wh"
      },
      "execution_count": 63,
      "outputs": []
    },
    {
      "cell_type": "code",
      "source": [
        "log_model = LogisticRegression(random_state=42)\n",
        "log_model.fit(X_train, y_train)\n",
        "y_pred_log = log_model.predict(X_test)"
      ],
      "metadata": {
        "id": "kJA-A3kpUs8B",
        "outputId": "5c105a9d-6c6a-4bff-b708-27cd792608cd",
        "colab": {
          "base_uri": "https://localhost:8080/"
        }
      },
      "execution_count": 64,
      "outputs": [
        {
          "output_type": "stream",
          "name": "stderr",
          "text": [
            "/usr/local/lib/python3.10/dist-packages/sklearn/linear_model/_logistic.py:460: ConvergenceWarning: lbfgs failed to converge (status=1):\n",
            "STOP: TOTAL NO. of ITERATIONS REACHED LIMIT.\n",
            "\n",
            "Increase the number of iterations (max_iter) or scale the data as shown in:\n",
            "    https://scikit-learn.org/stable/modules/preprocessing.html\n",
            "Please also refer to the documentation for alternative solver options:\n",
            "    https://scikit-learn.org/stable/modules/linear_model.html#logistic-regression\n",
            "  n_iter_i = _check_optimize_result(\n"
          ]
        }
      ]
    },
    {
      "cell_type": "code",
      "source": [
        "tree_model = DecisionTreeClassifier(random_state=42)\n",
        "tree_model.fit(X_train, y_train)\n",
        "y_pred_tree = tree_model.predict(X_test)"
      ],
      "metadata": {
        "id": "82hKRPeHUs4h"
      },
      "execution_count": 65,
      "outputs": []
    },
    {
      "cell_type": "code",
      "source": [
        "forest_model = RandomForestClassifier(random_state=42)\n",
        "forest_model.fit(X_train, y_train)\n",
        "y_pred_forest = forest_model.predict(X_test)"
      ],
      "metadata": {
        "id": "DXs3RTxhUs2C"
      },
      "execution_count": 66,
      "outputs": []
    },
    {
      "cell_type": "code",
      "source": [
        "print(\"Logistic Regression Model:\")\n",
        "print(f'Accuracy: {accuracy_score(y_test, y_pred_log):.2f}')\n",
        "print(classification_report(y_test, y_pred_log))\n",
        "\n",
        "print(\"\\nDecision Tree Model:\")\n",
        "print(f'Accuracy: {accuracy_score(y_test, y_pred_tree):.2f}')\n",
        "print(classification_report(y_test, y_pred_tree))\n",
        "\n",
        "print(\"\\nRandom Forest Model:\")\n",
        "print(f'Accuracy: {accuracy_score(y_test, y_pred_forest):.2f}')\n",
        "print(classification_report(y_test, y_pred_forest))\n"
      ],
      "metadata": {
        "id": "WNRADIfZUsw0",
        "outputId": "25951992-6734-40ac-ccad-bcf955b2d1d0",
        "colab": {
          "base_uri": "https://localhost:8080/"
        }
      },
      "execution_count": 67,
      "outputs": [
        {
          "output_type": "stream",
          "name": "stdout",
          "text": [
            "Logistic Regression Model:\n",
            "Accuracy: 0.99\n",
            "              precision    recall  f1-score   support\n",
            "\n",
            "         0.0       1.00      1.00      1.00     42599\n",
            "         1.0       0.30      0.23      0.26       184\n",
            "\n",
            "    accuracy                           0.99     42783\n",
            "   macro avg       0.65      0.62      0.63     42783\n",
            "weighted avg       0.99      0.99      0.99     42783\n",
            "\n",
            "\n",
            "Decision Tree Model:\n",
            "Accuracy: 0.99\n",
            "              precision    recall  f1-score   support\n",
            "\n",
            "         0.0       1.00      1.00      1.00     42599\n",
            "         1.0       0.30      0.37      0.33       184\n",
            "\n",
            "    accuracy                           0.99     42783\n",
            "   macro avg       0.65      0.68      0.66     42783\n",
            "weighted avg       0.99      0.99      0.99     42783\n",
            "\n",
            "\n",
            "Random Forest Model:\n",
            "Accuracy: 1.00\n",
            "              precision    recall  f1-score   support\n",
            "\n",
            "         0.0       1.00      1.00      1.00     42599\n",
            "         1.0       0.74      0.29      0.42       184\n",
            "\n",
            "    accuracy                           1.00     42783\n",
            "   macro avg       0.87      0.65      0.71     42783\n",
            "weighted avg       1.00      1.00      1.00     42783\n",
            "\n"
          ]
        }
      ]
    },
    {
      "cell_type": "code",
      "source": [
        "smote = SMOTE(random_state=42)\n",
        "X_train_smote, y_train_smote = smote.fit_resample(X_train, y_train)\n",
        "\n",
        "forest_model_smote = RandomForestClassifier(random_state=42)\n",
        "forest_model_smote.fit(X_train_smote, y_train_smote)\n",
        "y_pred_forest_smote = forest_model_smote.predict(X_test)\n",
        "\n",
        "print(\"\\nRandom Forest Model with SMOTE:\")\n",
        "print(f'Accuracy: {accuracy_score(y_test, y_pred_forest_smote):.2f}')\n",
        "print(classification_report(y_test, y_pred_forest_smote))\n"
      ],
      "metadata": {
        "id": "yRVK5T87Usiy",
        "outputId": "6fe968ad-e84a-4b3a-857c-d1576915e94c",
        "colab": {
          "base_uri": "https://localhost:8080/"
        }
      },
      "execution_count": 68,
      "outputs": [
        {
          "output_type": "stream",
          "name": "stdout",
          "text": [
            "\n",
            "Random Forest Model with SMOTE:\n",
            "Accuracy: 1.00\n",
            "              precision    recall  f1-score   support\n",
            "\n",
            "         0.0       1.00      1.00      1.00     42599\n",
            "         1.0       0.62      0.26      0.37       184\n",
            "\n",
            "    accuracy                           1.00     42783\n",
            "   macro avg       0.81      0.63      0.68     42783\n",
            "weighted avg       1.00      1.00      1.00     42783\n",
            "\n"
          ]
        }
      ]
    },
    {
      "cell_type": "code",
      "source": [
        "joblib.dump(forest_model, 'credit_card_fraud_model.pkl')\n"
      ],
      "metadata": {
        "id": "CkwE8xO7U8c5",
        "outputId": "7d63229e-cebf-4c1f-a5f2-61870d7b8f92",
        "colab": {
          "base_uri": "https://localhost:8080/"
        }
      },
      "execution_count": 69,
      "outputs": [
        {
          "output_type": "execute_result",
          "data": {
            "text/plain": [
              "['credit_card_fraud_model.pkl']"
            ]
          },
          "metadata": {},
          "execution_count": 69
        }
      ]
    }
  ]
}